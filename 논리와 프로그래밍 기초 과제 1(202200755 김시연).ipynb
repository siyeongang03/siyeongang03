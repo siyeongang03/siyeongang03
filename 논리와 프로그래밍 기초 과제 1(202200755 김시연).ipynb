{
  "nbformat": 4,
  "nbformat_minor": 0,
  "metadata": {
    "colab": {
      "provenance": [],
      "authorship_tag": "ABX9TyPieEvFVs5wGGw6GNxr6mOk",
      "include_colab_link": true
    },
    "kernelspec": {
      "name": "python3",
      "display_name": "Python 3"
    },
    "language_info": {
      "name": "python"
    }
  },
  "cells": [
    {
      "cell_type": "markdown",
      "metadata": {
        "id": "view-in-github",
        "colab_type": "text"
      },
      "source": [
        "<a href=\"https://colab.research.google.com/github/siyeongang03/siyeongang03/blob/main/%EB%85%BC%EB%A6%AC%EC%99%80%20%ED%94%84%EB%A1%9C%EA%B7%B8%EB%9E%98%EB%B0%8D%20%EA%B8%B0%EC%B4%88%20%EA%B3%BC%EC%A0%9C%201(202200755%20%EA%B9%80%EC%8B%9C%EC%97%B0).ipynb\" target=\"_parent\"><img src=\"https://colab.research.google.com/assets/colab-badge.svg\" alt=\"Open In Colab\"/></a>"
      ]
    },
    {
      "cell_type": "markdown",
      "source": [],
      "metadata": {
        "id": "OFIJZzNTsCnr"
      }
    },
    {
      "cell_type": "code",
      "source": [],
      "metadata": {
        "id": "xAQs2FIpPTgA"
      },
      "execution_count": null,
      "outputs": []
    },
    {
      "cell_type": "markdown",
      "source": [
        "#202200755김시연\n"
      ],
      "metadata": {
        "id": "zGxX8D9GsFhB"
      }
    },
    {
      "cell_type": "code",
      "source": [
        "a=1\n",
        "b=2\n",
        "print(a+b)\n"
      ],
      "metadata": {
        "colab": {
          "base_uri": "https://localhost:8080/"
        },
        "id": "1zisWNcysQ3D",
        "outputId": "2a0cb52f-a136-4afe-e90c-8355231af58d"
      },
      "execution_count": null,
      "outputs": [
        {
          "output_type": "stream",
          "name": "stdout",
          "text": [
            "3\n"
          ]
        }
      ]
    },
    {
      "cell_type": "code",
      "source": [
        "n=int (input('숫자를 입력하시오:'))\n",
        "\n",
        "if n == int(n)<=30:\n",
        "    for i in range(1,n+1):\n",
        "      for j in range(1,i+1):\n",
        "        print(j,end=\"\")\n",
        "      print() \n",
        "\n",
        "elif n == int(n)>=30:\n",
        "     print (\"너무 많다\")"
      ],
      "metadata": {
        "id": "bWfYHs862KJB"
      },
      "execution_count": null,
      "outputs": []
    },
    {
      "cell_type": "code",
      "source": [
        "n = str(input(\"숫자를 입력하시오: \"))\n",
        "if n.isdecimal():\n",
        "  n = int(n)\n",
        "  if n <= 30:\n",
        "    for i in range(1, n + 1):\n",
        "      for j in range(1, i + 1):\n",
        "        print(j,end=\"\")\n",
        "      print()\n",
        "  else:\n",
        "    print(\"너무 많습니다\")\n",
        "else:\n",
        "  print(\"정수를 입력해 주세요\")"
      ],
      "metadata": {
        "colab": {
          "base_uri": "https://localhost:8080/"
        },
        "id": "uBi-USEQPXoT",
        "outputId": "a3ec9d8b-9105-4e80-cf77-2a0d19713081"
      },
      "execution_count": null,
      "outputs": [
        {
          "output_type": "stream",
          "name": "stdout",
          "text": [
            "숫자를 입력하시오: 3.3\n",
            "정수를 입력해 주세요\n"
          ]
        }
      ]
    }
  ]
}